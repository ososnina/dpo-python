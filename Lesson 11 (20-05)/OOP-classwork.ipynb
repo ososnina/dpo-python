{
 "cells": [
  {
   "cell_type": "markdown",
   "metadata": {},
   "source": [
    "### Описываем классы и создаем объекты\n",
    "\n",
    "* **Класс** - описание пользовательского типа данных. Класс = методы + свойства.\n",
    "* **Объект** - созданная переменная пользовательского типа данных.\n",
    "* **Метод** - функция внутри класса. Методы получают первым аргументом указатель на объект.\n",
    "* **Свойство** - переменная внутри класса. Определяется через `self`.\n",
    "* **Конструктор** - метод класса, автоматически запускаемый при создании объекта. `__init__()`\n",
    "* **Статическое свойство** - свойство, значение которого одинакого для всех объектов класса. Создается внутри класса вне методов."
   ]
  },
  {
   "cell_type": "code",
   "execution_count": 1,
   "metadata": {},
   "outputs": [],
   "source": [
    "import random\n",
    "\n",
    "class Wolf:\n",
    "    zoo = \"Москва\"\n",
    "    \n",
    "    def __init__(self, name):\n",
    "        self.name = name\n",
    "        self.hunger = random.randint(1, 5)\n",
    "        print(\"I'm born\")\n",
    "    def whoAreYou(self):\n",
    "        print(\"I'm \" + self.name)\n",
    "    def voice(self):\n",
    "        print(\"A\" + \"u\" * self.hunger)    "
   ]
  },
  {
   "cell_type": "code",
   "execution_count": 2,
   "metadata": {},
   "outputs": [
    {
     "name": "stdout",
     "output_type": "stream",
     "text": [
      "I'm born\n",
      "I'm born\n"
     ]
    }
   ],
   "source": [
    "vasya = Wolf(\"Вася\")\n",
    "petya = Wolf(\"Петя\")"
   ]
  },
  {
   "cell_type": "code",
   "execution_count": 3,
   "metadata": {},
   "outputs": [
    {
     "name": "stdout",
     "output_type": "stream",
     "text": [
      "4\n",
      "Auuuu\n",
      "I'm Вася\n",
      "4\n",
      "Auuuu\n",
      "I'm Петя\n"
     ]
    }
   ],
   "source": [
    "print(vasya.hunger)\n",
    "vasya.voice()\n",
    "vasya.whoAreYou()\n",
    "\n",
    "print(petya.hunger)\n",
    "petya.voice()\n",
    "petya.whoAreYou()"
   ]
  },
  {
   "cell_type": "code",
   "execution_count": 4,
   "metadata": {},
   "outputs": [
    {
     "name": "stdout",
     "output_type": "stream",
     "text": [
      "Москва\n",
      "Москва\n",
      "-- -- -- \n",
      "New York\n",
      "New York\n"
     ]
    }
   ],
   "source": [
    "print(vasya.zoo)\n",
    "print(Wolf.zoo)\n",
    "\n",
    "print(\"-- \" * 3)\n",
    "\n",
    "Wolf.zoo = 'New York'\n",
    "print(vasya.zoo)\n",
    "print(petya.zoo)"
   ]
  },
  {
   "cell_type": "markdown",
   "metadata": {},
   "source": [
    "**Кофемашина**"
   ]
  },
  {
   "cell_type": "code",
   "execution_count": 5,
   "metadata": {},
   "outputs": [],
   "source": [
    "import time\n",
    "\n",
    "class Human:\n",
    "    def __init__(self):\n",
    "        self.happiness = 10\n",
    "    \n",
    "    def drink(self, cup):\n",
    "        if cup.isHot():\n",
    "            self.happiness += 10\n",
    "            print(\"Tasty!\")\n",
    "        else:\n",
    "            print(\"Its cold :(\")\n",
    "            self.happiness -= 10\n",
    "\n",
    "class Cup:\n",
    "    def __init__(self):\n",
    "        self.created_at = time.time()\n",
    "        \n",
    "    def isHot(self):\n",
    "        return time.time() - self.created_at < 10\n",
    "\n",
    "class CoffeeMachine:\n",
    "    milk_size = 10\n",
    "    water_size = 10\n",
    "    coffee_size = 10\n",
    "    \n",
    "    def __init__(self):\n",
    "        self.milk = 0\n",
    "        self.coffee = 0\n",
    "        self.water = 0\n",
    "        \n",
    "    def hasMilk(self):\n",
    "        return self.milk > 0\n",
    "    \n",
    "    def hasWater(self):\n",
    "        return self.water > 0\n",
    "    \n",
    "    def hasCoffee(self):\n",
    "        return self.water > 0\n",
    "        \n",
    "    def addWater(self):\n",
    "        self.water = self.water_size\n",
    "        \n",
    "    def addMilk(self):\n",
    "        self.milk = self.milk_size\n",
    "    \n",
    "    def addCoffee(self):\n",
    "        self.milk = self.coffee\n",
    "    \n",
    "    def makeEspresso(self):\n",
    "        if self.hasCoffee() and self.hasWater():\n",
    "            self.coffee -= 1\n",
    "            self.water -= 1\n",
    "            return Cup()\n",
    "        else:\n",
    "            return None\n",
    "    \n",
    "    def makeCappuccino(self):\n",
    "        if self.hasCoffee() and self.hasWater() and self.hasMilk():\n",
    "            self.coffee -= 1\n",
    "            self.water -= 1\n",
    "            self.milk -= 1\n",
    "            return Cup()\n",
    "        else:\n",
    "            return None"
   ]
  },
  {
   "cell_type": "code",
   "execution_count": 6,
   "metadata": {},
   "outputs": [],
   "source": [
    "vasya = Human()\n",
    "machine = CoffeeMachine()\n",
    "\n",
    "machine.addWater()\n",
    "machine.addCoffee()\n",
    "\n",
    "cup = machine.makeEspresso()"
   ]
  },
  {
   "cell_type": "code",
   "execution_count": 7,
   "metadata": {},
   "outputs": [
    {
     "name": "stdout",
     "output_type": "stream",
     "text": [
      "Tasty!\n"
     ]
    }
   ],
   "source": [
    "vasya.drink(cup)"
   ]
  },
  {
   "cell_type": "code",
   "execution_count": 8,
   "metadata": {},
   "outputs": [
    {
     "name": "stdout",
     "output_type": "stream",
     "text": [
      "Tasty!\n"
     ]
    }
   ],
   "source": [
    "vasya.drink(cup)"
   ]
  },
  {
   "cell_type": "code",
   "execution_count": 9,
   "metadata": {},
   "outputs": [
    {
     "data": {
      "text/plain": [
       "1589998905.4059353"
      ]
     },
     "execution_count": 9,
     "metadata": {},
     "output_type": "execute_result"
    }
   ],
   "source": [
    "time.time() "
   ]
  },
  {
   "cell_type": "code",
   "execution_count": 10,
   "metadata": {},
   "outputs": [
    {
     "name": "stdout",
     "output_type": "stream",
     "text": [
      "10\n",
      "0\n",
      "10\n"
     ]
    }
   ],
   "source": [
    "machine = CoffeeMachine()\n",
    "\n",
    "print(machine.water_size)\n",
    "print(machine.water)\n",
    "\n",
    "machine.addWater()\n",
    "print(machine.water)"
   ]
  },
  {
   "cell_type": "code",
   "execution_count": null,
   "metadata": {},
   "outputs": [
    {
     "name": "stdout",
     "output_type": "stream",
     "text": [
      "status:\n",
      "\n",
      "1 - refill water\n",
      "2 - refill coffee\n",
      "3 - refill milk\n",
      "4 - make espresso\n",
      "5 - make cappucino\n",
      "\n",
      "Invalid command...\n",
      "status:\n",
      "\n",
      "1 - refill water\n",
      "2 - refill coffee\n",
      "3 - refill milk\n",
      "4 - make espresso\n",
      "5 - make cappucino\n",
      "\n",
      "Invalid command...\n",
      "status:\n",
      "\n",
      "1 - refill water\n",
      "2 - refill coffee\n",
      "3 - refill milk\n",
      "4 - make espresso\n",
      "5 - make cappucino\n",
      "\n",
      "Invalid command...\n",
      "status:\n",
      "\n",
      "1 - refill water\n",
      "2 - refill coffee\n",
      "3 - refill milk\n",
      "4 - make espresso\n",
      "5 - make cappucino\n"
     ]
    }
   ],
   "source": [
    "machine = CoffeeMachine()\n",
    "\n",
    "while True:\n",
    "    \n",
    "    print(\"status:\")\n",
    "    if machine.hasMilk():\n",
    "        print(\"milk - OK\")\n",
    "        \n",
    "    if machine.hasWater():\n",
    "        print(\"water - OK\")\n",
    "        \n",
    "    if machine.hasCoffee():\n",
    "        print(\"coffee - OK\")\n",
    "        \n",
    "    print(\"\")\n",
    "    \n",
    "    print(\"1 - refill water\")\n",
    "    print(\"2 - refill coffee\")\n",
    "    print(\"3 - refill milk\")\n",
    "    print(\"4 - make espresso\")\n",
    "    print(\"5 - make cappucino\")\n",
    "    \n",
    "    try:\n",
    "        command = int(input())\n",
    "        \n",
    "        if command < 1 or command > 5:\n",
    "            raise Exception()\n",
    "        \n",
    "        if command == 1:\n",
    "            machine.addWater()\n",
    "        if command == 2:\n",
    "            machine.addCoffee()\n",
    "        if command == 3:\n",
    "            machine.addMilk()\n",
    "        if command == 4:\n",
    "            if machine.makeEspresso():\n",
    "                print(\"here is your cup...\")\n",
    "            else:\n",
    "                print(\"Insufficient supplies...\")\n",
    "        if command == 5:\n",
    "            if machine.makeCappucino():\n",
    "                print(\"here is your cup...\")\n",
    "            else:\n",
    "                print(\"Insufficient supplies...\")\n",
    "        \n",
    "    except:\n",
    "        print(\"Invalid command...\")"
   ]
  },
  {
   "cell_type": "markdown",
   "metadata": {},
   "source": [
    "**Три принципа ООП** - это возможности, которые должны быть доступны в языке, называющем себя объектно-ориентированным. К ним относятся инкапсуляция, наследование и полиморфизм (изменяемость).\n",
    "\n",
    "### Инкапсуляция\n",
    "\n",
    "**Инкапсуляция** - это возможность объекта скрывать детали своей реализации.\n",
    "\n",
    "В случае с питоном - это договоренность о том, что свойства и методы, название которых начинается с `_` **нельзя** использовать вне описания класса."
   ]
  },
  {
   "cell_type": "code",
   "execution_count": 11,
   "metadata": {},
   "outputs": [],
   "source": [
    "class Account:\n",
    "    def __init__(self):\n",
    "        #private\n",
    "        self._balance = 0\n",
    "        \n",
    "    def change(self, amount):\n",
    "        if self._balance + amount >= 0:\n",
    "            self._balance += amount\n",
    "            return True\n",
    "        else:\n",
    "            return False\n",
    "    def balance(self):\n",
    "        return self._balance"
   ]
  },
  {
   "cell_type": "code",
   "execution_count": 12,
   "metadata": {},
   "outputs": [
    {
     "data": {
      "text/plain": [
       "True"
      ]
     },
     "execution_count": 12,
     "metadata": {},
     "output_type": "execute_result"
    }
   ],
   "source": [
    "a = Account()\n",
    "a.change(100)\n",
    "a.change(-50)"
   ]
  },
  {
   "cell_type": "code",
   "execution_count": 13,
   "metadata": {},
   "outputs": [
    {
     "data": {
      "text/plain": [
       "True"
      ]
     },
     "execution_count": 13,
     "metadata": {},
     "output_type": "execute_result"
    }
   ],
   "source": [
    "a.change(-50)"
   ]
  },
  {
   "cell_type": "code",
   "execution_count": 14,
   "metadata": {},
   "outputs": [
    {
     "data": {
      "text/plain": [
       "False"
      ]
     },
     "execution_count": 14,
     "metadata": {},
     "output_type": "execute_result"
    }
   ],
   "source": [
    "a.change(-50)"
   ]
  },
  {
   "cell_type": "code",
   "execution_count": 15,
   "metadata": {},
   "outputs": [
    {
     "data": {
      "text/plain": [
       "0"
      ]
     },
     "execution_count": 15,
     "metadata": {},
     "output_type": "execute_result"
    }
   ],
   "source": [
    "a.balance()"
   ]
  },
  {
   "cell_type": "markdown",
   "metadata": {},
   "source": [
    "### Наследование и полиморфизм\n",
    "\n",
    "**Наследование** - это возможность создавать новые классы на основе существующих.\n",
    "\n",
    "**Полиморфизм** - это возможность менять реализацию методов родителя при наследовании."
   ]
  },
  {
   "cell_type": "code",
   "execution_count": 16,
   "metadata": {},
   "outputs": [
    {
     "name": "stdout",
     "output_type": "stream",
     "text": [
      "I'm born\n",
      "I'm born\n"
     ]
    }
   ],
   "source": [
    "import random\n",
    "\n",
    "class Wolf:\n",
    "    def __init__(self, name):\n",
    "        self.name = name\n",
    "        self.hunger = random.randint(1, 5)\n",
    "        print(\"I'm born\")\n",
    "    def whoAreYou(self):\n",
    "        print(\"I'm \" + self.name)\n",
    "    def voice(self):\n",
    "        print(\"A\" + \"u\" * self.hunger)\n",
    "        \n",
    "class Dog(Wolf):\n",
    "    def __init__(self, name, anger):\n",
    "        super().__init__(name)\n",
    "        self.anger = anger\n",
    "    \n",
    "    def voice(self):\n",
    "        print((\"W\" + \"o\" * self.hunger + \"w \") * self.anger)\n",
    "        super().voice()\n",
    "\n",
    "w = Wolf(\"Stepan\")\n",
    "d = Dog(\"Barsik\", 4)\n",
    "        "
   ]
  },
  {
   "cell_type": "code",
   "execution_count": 17,
   "metadata": {},
   "outputs": [
    {
     "name": "stdout",
     "output_type": "stream",
     "text": [
      "Auuu\n"
     ]
    }
   ],
   "source": [
    "w.voice()"
   ]
  },
  {
   "cell_type": "code",
   "execution_count": 18,
   "metadata": {},
   "outputs": [
    {
     "name": "stdout",
     "output_type": "stream",
     "text": [
      "Auuu\n"
     ]
    }
   ],
   "source": [
    "w.voice()"
   ]
  },
  {
   "cell_type": "code",
   "execution_count": 19,
   "metadata": {},
   "outputs": [
    {
     "name": "stdout",
     "output_type": "stream",
     "text": [
      "Wooow Wooow Wooow Wooow \n",
      "Auuu\n"
     ]
    }
   ],
   "source": [
    "d.voice()"
   ]
  },
  {
   "cell_type": "markdown",
   "metadata": {},
   "source": [
    "**Страховые манипуляции.**"
   ]
  },
  {
   "cell_type": "code",
   "execution_count": 20,
   "metadata": {},
   "outputs": [],
   "source": [
    "class InsurancePolicy:\n",
    "    def __init__(self, price):\n",
    "        self._price = price\n",
    "    \n",
    "    def get_rate():\n",
    "        pass\n",
    "        \n",
    "class VehicleInsurance(InsurancePolicy):\n",
    "    def get_rate(self):\n",
    "        return self._price * 0.001\n",
    "    \n",
    "class HomeInsurance(InsurancePolicy):\n",
    "    def get_rate(self):\n",
    "        return self._price * 0.00001"
   ]
  },
  {
   "cell_type": "code",
   "execution_count": 21,
   "metadata": {},
   "outputs": [
    {
     "name": "stdout",
     "output_type": "stream",
     "text": [
      "1000.0\n",
      "80.0\n"
     ]
    }
   ],
   "source": [
    "vi = VehicleInsurance(1000000)\n",
    "hi = HomeInsurance(8000000)\n",
    "\n",
    "print(vi.get_rate())\n",
    "print(hi.get_rate())"
   ]
  },
  {
   "cell_type": "markdown",
   "metadata": {},
   "source": [
    "**Стремление к порядку.**"
   ]
  },
  {
   "cell_type": "code",
   "execution_count": 22,
   "metadata": {},
   "outputs": [
    {
     "name": "stdout",
     "output_type": "stream",
     "text": [
      "[1, 3, 5, 10]\n"
     ]
    }
   ],
   "source": [
    "class SortedList(list):\n",
    "    def __init__(self, L=None):\n",
    "        if L:\n",
    "            sorted_list = sorted(L)\n",
    "            super().__init__(sorted_list)\n",
    "        else:\n",
    "            super().__init__([])\n",
    "        \n",
    "    def append(self, element):\n",
    "        super().append(element)\n",
    "        super().sort()\n",
    "        \n",
    "l = SortedList()\n",
    "l.append(5)\n",
    "l.append(3)\n",
    "l.append(10)\n",
    "l.append(1)\n",
    "\n",
    "print(l)"
   ]
  },
  {
   "cell_type": "code",
   "execution_count": 23,
   "metadata": {},
   "outputs": [
    {
     "name": "stdout",
     "output_type": "stream",
     "text": [
      "[-8, 1, 2, 10]\n"
     ]
    }
   ],
   "source": [
    "l2 = SortedList([1,10,2,-8])\n",
    "print(l2)"
   ]
  },
  {
   "cell_type": "markdown",
   "metadata": {},
   "source": [
    "### Magic methods и перегрузка операторов"
   ]
  },
  {
   "cell_type": "code",
   "execution_count": 24,
   "metadata": {},
   "outputs": [
    {
     "data": {
      "text/plain": [
       "['__add__',\n",
       " '__class__',\n",
       " '__contains__',\n",
       " '__delattr__',\n",
       " '__delitem__',\n",
       " '__dir__',\n",
       " '__doc__',\n",
       " '__eq__',\n",
       " '__format__',\n",
       " '__ge__',\n",
       " '__getattribute__',\n",
       " '__getitem__',\n",
       " '__gt__',\n",
       " '__hash__',\n",
       " '__iadd__',\n",
       " '__imul__',\n",
       " '__init__',\n",
       " '__init_subclass__',\n",
       " '__iter__',\n",
       " '__le__',\n",
       " '__len__',\n",
       " '__lt__',\n",
       " '__mul__',\n",
       " '__ne__',\n",
       " '__new__',\n",
       " '__reduce__',\n",
       " '__reduce_ex__',\n",
       " '__repr__',\n",
       " '__reversed__',\n",
       " '__rmul__',\n",
       " '__setattr__',\n",
       " '__setitem__',\n",
       " '__sizeof__',\n",
       " '__str__',\n",
       " '__subclasshook__',\n",
       " 'append',\n",
       " 'clear',\n",
       " 'copy',\n",
       " 'count',\n",
       " 'extend',\n",
       " 'index',\n",
       " 'insert',\n",
       " 'pop',\n",
       " 'remove',\n",
       " 'reverse',\n",
       " 'sort']"
      ]
     },
     "execution_count": 24,
     "metadata": {},
     "output_type": "execute_result"
    }
   ],
   "source": [
    "L = list()\n",
    "\n",
    "dir(L)"
   ]
  },
  {
   "cell_type": "code",
   "execution_count": 25,
   "metadata": {},
   "outputs": [
    {
     "data": {
      "text/plain": [
       "__main__.Dog"
      ]
     },
     "execution_count": 25,
     "metadata": {},
     "output_type": "execute_result"
    }
   ],
   "source": [
    "type(d)"
   ]
  },
  {
   "cell_type": "code",
   "execution_count": 26,
   "metadata": {},
   "outputs": [
    {
     "data": {
      "text/plain": [
       "['__class__',\n",
       " '__delattr__',\n",
       " '__dict__',\n",
       " '__dir__',\n",
       " '__doc__',\n",
       " '__eq__',\n",
       " '__format__',\n",
       " '__ge__',\n",
       " '__getattribute__',\n",
       " '__gt__',\n",
       " '__hash__',\n",
       " '__init__',\n",
       " '__init_subclass__',\n",
       " '__le__',\n",
       " '__lt__',\n",
       " '__module__',\n",
       " '__ne__',\n",
       " '__new__',\n",
       " '__reduce__',\n",
       " '__reduce_ex__',\n",
       " '__repr__',\n",
       " '__setattr__',\n",
       " '__sizeof__',\n",
       " '__str__',\n",
       " '__subclasshook__',\n",
       " '__weakref__',\n",
       " 'anger',\n",
       " 'hunger',\n",
       " 'name',\n",
       " 'voice',\n",
       " 'whoAreYou']"
      ]
     },
     "execution_count": 26,
     "metadata": {},
     "output_type": "execute_result"
    }
   ],
   "source": [
    "dir(d)"
   ]
  },
  {
   "cell_type": "code",
   "execution_count": 27,
   "metadata": {},
   "outputs": [
    {
     "data": {
      "text/plain": [
       "True"
      ]
     },
     "execution_count": 27,
     "metadata": {},
     "output_type": "execute_result"
    }
   ],
   "source": [
    "3 == 3"
   ]
  },
  {
   "cell_type": "code",
   "execution_count": 28,
   "metadata": {},
   "outputs": [
    {
     "data": {
      "text/plain": [
       "True"
      ]
     },
     "execution_count": 28,
     "metadata": {},
     "output_type": "execute_result"
    }
   ],
   "source": [
    "d == d"
   ]
  },
  {
   "cell_type": "code",
   "execution_count": 29,
   "metadata": {},
   "outputs": [
    {
     "data": {
      "text/plain": [
       "False"
      ]
     },
     "execution_count": 29,
     "metadata": {},
     "output_type": "execute_result"
    }
   ],
   "source": [
    "d == w"
   ]
  },
  {
   "cell_type": "code",
   "execution_count": 30,
   "metadata": {},
   "outputs": [
    {
     "data": {
      "text/plain": [
       "False"
      ]
     },
     "execution_count": 30,
     "metadata": {},
     "output_type": "execute_result"
    }
   ],
   "source": [
    "vasya == petya"
   ]
  },
  {
   "cell_type": "code",
   "execution_count": 93,
   "metadata": {},
   "outputs": [],
   "source": [
    "\n",
    "class Section:\n",
    "    def __init__(self, a, b):\n",
    "        self.start = a\n",
    "        self.end = b\n",
    "        \n",
    "    def __eq__(self, another_object):\n",
    "        return self.size() == another_object.size()\n",
    "    \n",
    "    def __gt__(self, another_object):\n",
    "        return self.size() > another_object.size()\n",
    "    \n",
    "    def __lt__(self, another_object):\n",
    "        return self.size() > another_object.size()\n",
    "    \n",
    "    def __abs__(self):\n",
    "        return self.size()\n",
    "    \n",
    "    def __int__(self):\n",
    "        return self.size()\n",
    "    \n",
    "    def __str__(self):\n",
    "        return f\"{self.start} |\" + self.size() * '-' + f'| {self.end}'\n",
    "    \n",
    "    def __repr__(self):\n",
    "        return \"I'm section\"\n",
    "    \n",
    "    def __add__(self, other):\n",
    "        return Section(self.start, self.end + other.size())\n",
    "    \n",
    "    def size(self):\n",
    "        return abs(self.end - self.start)\n",
    "\n",
    "A = Section(1,3)\n",
    "B = Section(4,6)"
   ]
  },
  {
   "cell_type": "code",
   "execution_count": 94,
   "metadata": {},
   "outputs": [
    {
     "data": {
      "text/plain": [
       "True"
      ]
     },
     "execution_count": 94,
     "metadata": {},
     "output_type": "execute_result"
    }
   ],
   "source": [
    "# A == B\n",
    "# A.__eq__(B)\n",
    "\n",
    "A == B"
   ]
  },
  {
   "cell_type": "code",
   "execution_count": 95,
   "metadata": {},
   "outputs": [],
   "source": [
    "C = A + B"
   ]
  },
  {
   "cell_type": "code",
   "execution_count": 96,
   "metadata": {},
   "outputs": [
    {
     "name": "stdout",
     "output_type": "stream",
     "text": [
      "1 |----| 5\n"
     ]
    }
   ],
   "source": [
    "print(C)"
   ]
  },
  {
   "cell_type": "code",
   "execution_count": 98,
   "metadata": {},
   "outputs": [
    {
     "data": {
      "text/plain": [
       "'1 |----| 5'"
      ]
     },
     "execution_count": 98,
     "metadata": {},
     "output_type": "execute_result"
    }
   ],
   "source": [
    "str(C)"
   ]
  },
  {
   "cell_type": "code",
   "execution_count": 99,
   "metadata": {},
   "outputs": [
    {
     "name": "stdout",
     "output_type": "stream",
     "text": [
      "<class '__main__.Section'>\n"
     ]
    }
   ],
   "source": [
    "print(Section)"
   ]
  },
  {
   "cell_type": "code",
   "execution_count": 80,
   "metadata": {},
   "outputs": [
    {
     "name": "stdout",
     "output_type": "stream",
     "text": [
      "[]\n"
     ]
    }
   ],
   "source": [
    "print(list())"
   ]
  },
  {
   "cell_type": "code",
   "execution_count": 62,
   "metadata": {},
   "outputs": [
    {
     "data": {
      "text/plain": [
       "False"
      ]
     },
     "execution_count": 62,
     "metadata": {},
     "output_type": "execute_result"
    }
   ],
   "source": [
    "A > B"
   ]
  },
  {
   "cell_type": "code",
   "execution_count": 63,
   "metadata": {},
   "outputs": [
    {
     "data": {
      "text/plain": [
       "False"
      ]
     },
     "execution_count": 63,
     "metadata": {},
     "output_type": "execute_result"
    }
   ],
   "source": [
    "A < B"
   ]
  },
  {
   "cell_type": "code",
   "execution_count": 64,
   "metadata": {},
   "outputs": [
    {
     "data": {
      "text/plain": [
       "2"
      ]
     },
     "execution_count": 64,
     "metadata": {},
     "output_type": "execute_result"
    }
   ],
   "source": [
    "abs(A)"
   ]
  },
  {
   "cell_type": "code",
   "execution_count": 83,
   "metadata": {},
   "outputs": [
    {
     "data": {
      "text/plain": [
       "2"
      ]
     },
     "execution_count": 83,
     "metadata": {},
     "output_type": "execute_result"
    }
   ],
   "source": [
    "int(A)"
   ]
  },
  {
   "cell_type": "code",
   "execution_count": 126,
   "metadata": {},
   "outputs": [],
   "source": [
    "class MultiSection:\n",
    "    \n",
    "    def __init__(self):\n",
    "        self.sections = []\n",
    "    \n",
    "    def __len__(self):\n",
    "        return len(self.sections)\n",
    "    \n",
    "    def __contains__(self, item):\n",
    "        for section in self.sections:\n",
    "            if item.start == section.start and item.end == section.end:\n",
    "                return True\n",
    "        return False\n",
    "    \n",
    "    def __iter__(self):\n",
    "        return self.sections.__iter__()\n",
    "    \n",
    "    def add(self, section):\n",
    "        self.sections.append(section)"
   ]
  },
  {
   "cell_type": "code",
   "execution_count": 127,
   "metadata": {},
   "outputs": [],
   "source": [
    "ML = MultiSection()\n",
    "\n",
    "ML.add(Section(1, 3))\n",
    "ML.add(Section(3, 5))\n",
    "ML.add(Section(8, 15))"
   ]
  },
  {
   "cell_type": "code",
   "execution_count": 128,
   "metadata": {},
   "outputs": [
    {
     "data": {
      "text/plain": [
       "3"
      ]
     },
     "execution_count": 128,
     "metadata": {},
     "output_type": "execute_result"
    }
   ],
   "source": [
    "len(ML)"
   ]
  },
  {
   "cell_type": "code",
   "execution_count": 129,
   "metadata": {},
   "outputs": [
    {
     "data": {
      "text/plain": [
       "True"
      ]
     },
     "execution_count": 129,
     "metadata": {},
     "output_type": "execute_result"
    }
   ],
   "source": [
    "Section(1,3) in ML"
   ]
  },
  {
   "cell_type": "code",
   "execution_count": 130,
   "metadata": {},
   "outputs": [
    {
     "data": {
      "text/plain": [
       "False"
      ]
     },
     "execution_count": 130,
     "metadata": {},
     "output_type": "execute_result"
    }
   ],
   "source": [
    "Section(2,3) in ML"
   ]
  },
  {
   "cell_type": "code",
   "execution_count": 131,
   "metadata": {},
   "outputs": [
    {
     "name": "stdout",
     "output_type": "stream",
     "text": [
      "1 |--| 3\n",
      "3 |--| 5\n",
      "8 |-------| 15\n"
     ]
    }
   ],
   "source": [
    "for section in ML:\n",
    "    print(section)"
   ]
  },
  {
   "cell_type": "code",
   "execution_count": null,
   "metadata": {},
   "outputs": [],
   "source": []
  }
 ],
 "metadata": {
  "kernelspec": {
   "display_name": "Python 3",
   "language": "python",
   "name": "python3"
  },
  "language_info": {
   "codemirror_mode": {
    "name": "ipython",
    "version": 3
   },
   "file_extension": ".py",
   "mimetype": "text/x-python",
   "name": "python",
   "nbconvert_exporter": "python",
   "pygments_lexer": "ipython3",
   "version": "3.7.6"
  }
 },
 "nbformat": 4,
 "nbformat_minor": 4
}
